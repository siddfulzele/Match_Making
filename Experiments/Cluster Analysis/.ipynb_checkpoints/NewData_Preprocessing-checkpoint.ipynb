{
 "cells": [
  {
   "cell_type": "code",
   "execution_count": 3,
   "metadata": {},
   "outputs": [],
   "source": [
    "import pandas as pd"
   ]
  },
  {
   "cell_type": "code",
   "execution_count": 4,
   "metadata": {},
   "outputs": [
    {
     "data": {
      "text/html": [
       "<div>\n",
       "<style scoped>\n",
       "    .dataframe tbody tr th:only-of-type {\n",
       "        vertical-align: middle;\n",
       "    }\n",
       "\n",
       "    .dataframe tbody tr th {\n",
       "        vertical-align: top;\n",
       "    }\n",
       "\n",
       "    .dataframe thead th {\n",
       "        text-align: right;\n",
       "    }\n",
       "</style>\n",
       "<table border=\"1\" class=\"dataframe\">\n",
       "  <thead>\n",
       "    <tr style=\"text-align: right;\">\n",
       "      <th></th>\n",
       "      <th>user_id</th>\n",
       "      <th>username</th>\n",
       "      <th>age</th>\n",
       "      <th>status</th>\n",
       "      <th>sex</th>\n",
       "      <th>orientation</th>\n",
       "      <th>drinks</th>\n",
       "      <th>drugs</th>\n",
       "      <th>height</th>\n",
       "      <th>job</th>\n",
       "      <th>...</th>\n",
       "      <th>language</th>\n",
       "      <th>new_languages</th>\n",
       "      <th>body_profile</th>\n",
       "      <th>education_level</th>\n",
       "      <th>dropped_out</th>\n",
       "      <th>bio</th>\n",
       "      <th>interests</th>\n",
       "      <th>other_interests</th>\n",
       "      <th>location_preference</th>\n",
       "      <th>cluster_labels</th>\n",
       "    </tr>\n",
       "  </thead>\n",
       "  <tbody>\n",
       "    <tr>\n",
       "      <th>0</th>\n",
       "      <td>fffe3100</td>\n",
       "      <td>Edith Lopez</td>\n",
       "      <td>27</td>\n",
       "      <td>single</td>\n",
       "      <td>f</td>\n",
       "      <td>gay</td>\n",
       "      <td>socially</td>\n",
       "      <td>never</td>\n",
       "      <td>66</td>\n",
       "      <td>medicine / health</td>\n",
       "      <td>...</td>\n",
       "      <td>english (fluently), spanish (poorly), sign lan...</td>\n",
       "      <td>interested</td>\n",
       "      <td>athletic</td>\n",
       "      <td>4</td>\n",
       "      <td>no</td>\n",
       "      <td>bottom line i love life! i work hard and i lov...</td>\n",
       "      <td>sports</td>\n",
       "      <td>instruments</td>\n",
       "      <td>same state</td>\n",
       "      <td>2</td>\n",
       "    </tr>\n",
       "    <tr>\n",
       "      <th>1</th>\n",
       "      <td>fffe3200</td>\n",
       "      <td>Travis Young</td>\n",
       "      <td>26</td>\n",
       "      <td>single</td>\n",
       "      <td>m</td>\n",
       "      <td>gay</td>\n",
       "      <td>socially</td>\n",
       "      <td>never</td>\n",
       "      <td>68</td>\n",
       "      <td>other</td>\n",
       "      <td>...</td>\n",
       "      <td>english (fluently), tagalog (okay), french (po...</td>\n",
       "      <td>interested</td>\n",
       "      <td>fit</td>\n",
       "      <td>3</td>\n",
       "      <td>no</td>\n",
       "      <td>i'm a straightforward, genuine, fun loving (i'...</td>\n",
       "      <td>painting</td>\n",
       "      <td>instruments</td>\n",
       "      <td>anywhere</td>\n",
       "      <td>0</td>\n",
       "    </tr>\n",
       "  </tbody>\n",
       "</table>\n",
       "<p>2 rows × 23 columns</p>\n",
       "</div>"
      ],
      "text/plain": [
       "    user_id      username  age  status sex orientation    drinks  drugs  \\\n",
       "0  fffe3100   Edith Lopez   27  single   f         gay  socially  never   \n",
       "1  fffe3200  Travis Young   26  single   m         gay  socially  never   \n",
       "\n",
       "   height                job  ...  \\\n",
       "0      66  medicine / health  ...   \n",
       "1      68              other  ...   \n",
       "\n",
       "                                            language new_languages  \\\n",
       "0  english (fluently), spanish (poorly), sign lan...    interested   \n",
       "1  english (fluently), tagalog (okay), french (po...    interested   \n",
       "\n",
       "  body_profile education_level dropped_out  \\\n",
       "0     athletic               4          no   \n",
       "1          fit               3          no   \n",
       "\n",
       "                                                 bio  interests  \\\n",
       "0  bottom line i love life! i work hard and i lov...     sports   \n",
       "1  i'm a straightforward, genuine, fun loving (i'...   painting   \n",
       "\n",
       "  other_interests location_preference cluster_labels  \n",
       "0     instruments          same state              2  \n",
       "1     instruments            anywhere              0  \n",
       "\n",
       "[2 rows x 23 columns]"
      ]
     },
     "execution_count": 4,
     "metadata": {},
     "output_type": "execute_result"
    }
   ],
   "source": [
    "data=pd.read_csv('Rawdata_withClusterLabels.csv')\n",
    "data.head(2)"
   ]
  },
  {
   "cell_type": "code",
   "execution_count": 5,
   "metadata": {},
   "outputs": [],
   "source": [
    "data['age']=data['age'].apply(lambda x: 58 if x>58 else x)"
   ]
  },
  {
   "cell_type": "code",
   "execution_count": 6,
   "metadata": {},
   "outputs": [],
   "source": [
    "data['drinks']=data['drinks'].apply(lambda x:'rarely' if x=='very often' else ('often' if x=='desperately' else x))"
   ]
  },
  {
   "cell_type": "code",
   "execution_count": 7,
   "metadata": {},
   "outputs": [],
   "source": [
    "data['drugs']=data['drugs'].apply(lambda x: 'sometimes' if x=='often' else x)"
   ]
  },
  {
   "cell_type": "code",
   "execution_count": 8,
   "metadata": {},
   "outputs": [],
   "source": [
    "data['job']=data['job'].apply(lambda x:'science / tech / engineering' if x=='computer / hardware / software'\n",
    "                                       else('other' if (x=='rather not say' or x=='unemployed' or x=='retired' or x=='military' or\n",
    "                                                       x=='transportation' or x=='political / government' or x=='clerical / administrative'\n",
    "                                                       or x=='hospitality / travel'  or x=='construction / craftsmanship' or x=='law / legal services')\n",
    "                                           else x)\n",
    "                                       )"
   ]
  },
  {
   "cell_type": "code",
   "execution_count": 9,
   "metadata": {},
   "outputs": [],
   "source": [
    "data['location']=data['location'].apply(lambda x: x.split(', ')[0])"
   ]
  },
  {
   "cell_type": "code",
   "execution_count": 10,
   "metadata": {},
   "outputs": [],
   "source": [
    "data['smokes']=data['smokes'].apply(lambda x: 'sometimes' if x=='when drinking' or x=='trying to quit' else x)"
   ]
  },
  {
   "cell_type": "code",
   "execution_count": 11,
   "metadata": {},
   "outputs": [],
   "source": [
    "data['body_profile']=data['body_profile'].apply(lambda x:'skinny' if (x=='skinny' or x=='thin' or x=='used up')\n",
    "                                                       else('athletic' if(x=='athletic' or x=='jacked') \n",
    "                                                       else('fit' if (x=='average' or x=='fit')\n",
    "                                                       else('above average' if (x=='curvy' or x=='full figured' or x=='a little extra')else 'fat'))))"
   ]
  },
  {
   "cell_type": "code",
   "execution_count": 12,
   "metadata": {},
   "outputs": [],
   "source": [
    "data['status']=data['status'].apply(lambda x:'single' if x=='single' else 'other')"
   ]
  },
  {
   "cell_type": "code",
   "execution_count": 14,
   "metadata": {},
   "outputs": [],
   "source": [
    "data['interest']=data['interests'].apply(lambda x:'music' if x=='music' or x=='singinig' or x=='instruments' or x=='dance'\n",
    "                                             else('artist' if x=='calligraphy' or x=='diy' or x=='painting' or x=='sketching' or x=='designing' or x=='craft' \n",
    "                                             else('game_video' if x=='video games' or x=='social_networking'\n",
    "                                             else ('outdoor' if x=='fishing' or x=='sports' or x=='yoga' or x=='camping'\n",
    "                                             else('movies' if x=='movies' or x=='acting' or x=='makeup'\n",
    "                                             else ('read/write' if x=='reading' or x=='writting' else x))))))"
   ]
  },
  {
   "cell_type": "code",
   "execution_count": 15,
   "metadata": {},
   "outputs": [],
   "source": [
    "top_20_locations=data['location'].value_counts()[:20]\n",
    "data['location']=data['location'].apply(lambda x: x if x in top_20_locations else \"other\")"
   ]
  },
  {
   "cell_type": "code",
   "execution_count": 16,
   "metadata": {},
   "outputs": [],
   "source": [
    "data['age']=data['age'].apply(lambda x:'18-30' if x<=30 else('31_40' if x>30 and x <=40 else('41_50' if x>40 and x<=50 else '50+')))"
   ]
  },
  {
   "cell_type": "code",
   "execution_count": 17,
   "metadata": {},
   "outputs": [],
   "source": [
    "data.to_csv('preprocessed_data_for_visualization.csv')"
   ]
  },
  {
   "cell_type": "code",
   "execution_count": null,
   "metadata": {},
   "outputs": [],
   "source": []
  }
 ],
 "metadata": {
  "kernelspec": {
   "display_name": "Python 3",
   "language": "python",
   "name": "python3"
  },
  "language_info": {
   "codemirror_mode": {
    "name": "ipython",
    "version": 3
   },
   "file_extension": ".py",
   "mimetype": "text/x-python",
   "name": "python",
   "nbconvert_exporter": "python",
   "pygments_lexer": "ipython3",
   "version": "3.8.5"
  }
 },
 "nbformat": 4,
 "nbformat_minor": 4
}
