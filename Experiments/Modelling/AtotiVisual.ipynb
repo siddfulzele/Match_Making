{
 "cells": [
  {
   "cell_type": "code",
   "execution_count": 2,
   "metadata": {},
   "outputs": [],
   "source": [
    "import atoti as tt\n",
    "import pandas as pd"
   ]
  },
  {
   "cell_type": "code",
   "execution_count": null,
   "metadata": {},
   "outputs": [],
   "source": []
  },
  {
   "cell_type": "code",
   "execution_count": 3,
   "metadata": {},
   "outputs": [],
   "source": [
    "session=tt.create_session()"
   ]
  },
  {
   "cell_type": "code",
   "execution_count": 4,
   "metadata": {},
   "outputs": [],
   "source": [
    "data=session.read_csv('Rawdata_withClusterLabels.csv',keys=['user_id'])"
   ]
  },
  {
   "cell_type": "code",
   "execution_count": 5,
   "metadata": {
    "collapsed": true,
    "jupyter": {
     "outputs_hidden": true
    },
    "tags": []
   },
   "outputs": [
    {
     "data": {
      "text/html": [
       "<div>\n",
       "<style scoped>\n",
       "    .dataframe tbody tr th:only-of-type {\n",
       "        vertical-align: middle;\n",
       "    }\n",
       "\n",
       "    .dataframe tbody tr th {\n",
       "        vertical-align: top;\n",
       "    }\n",
       "\n",
       "    .dataframe thead th {\n",
       "        text-align: right;\n",
       "    }\n",
       "</style>\n",
       "<table border=\"1\" class=\"dataframe\">\n",
       "  <thead>\n",
       "    <tr style=\"text-align: right;\">\n",
       "      <th></th>\n",
       "      <th>username</th>\n",
       "      <th>age</th>\n",
       "      <th>status</th>\n",
       "      <th>sex</th>\n",
       "      <th>orientation</th>\n",
       "      <th>drinks</th>\n",
       "      <th>drugs</th>\n",
       "      <th>height</th>\n",
       "      <th>job</th>\n",
       "      <th>location</th>\n",
       "      <th>...</th>\n",
       "      <th>language</th>\n",
       "      <th>new_languages</th>\n",
       "      <th>body_profile</th>\n",
       "      <th>education_level</th>\n",
       "      <th>dropped_out</th>\n",
       "      <th>bio</th>\n",
       "      <th>interests</th>\n",
       "      <th>other_interests</th>\n",
       "      <th>location_preference</th>\n",
       "      <th>cluster_labels</th>\n",
       "    </tr>\n",
       "    <tr>\n",
       "      <th>user_id</th>\n",
       "      <th></th>\n",
       "      <th></th>\n",
       "      <th></th>\n",
       "      <th></th>\n",
       "      <th></th>\n",
       "      <th></th>\n",
       "      <th></th>\n",
       "      <th></th>\n",
       "      <th></th>\n",
       "      <th></th>\n",
       "      <th></th>\n",
       "      <th></th>\n",
       "      <th></th>\n",
       "      <th></th>\n",
       "      <th></th>\n",
       "      <th></th>\n",
       "      <th></th>\n",
       "      <th></th>\n",
       "      <th></th>\n",
       "      <th></th>\n",
       "      <th></th>\n",
       "    </tr>\n",
       "  </thead>\n",
       "  <tbody>\n",
       "    <tr>\n",
       "      <th>fffe3100</th>\n",
       "      <td>Edith Lopez</td>\n",
       "      <td>27</td>\n",
       "      <td>single</td>\n",
       "      <td>f</td>\n",
       "      <td>gay</td>\n",
       "      <td>socially</td>\n",
       "      <td>never</td>\n",
       "      <td>66</td>\n",
       "      <td>medicine / health</td>\n",
       "      <td>oakland, california</td>\n",
       "      <td>...</td>\n",
       "      <td>english (fluently), spanish (poorly), sign lan...</td>\n",
       "      <td>interested</td>\n",
       "      <td>athletic</td>\n",
       "      <td>4</td>\n",
       "      <td>no</td>\n",
       "      <td>bottom line i love life! i work hard and i lov...</td>\n",
       "      <td>sports</td>\n",
       "      <td>instruments</td>\n",
       "      <td>same state</td>\n",
       "      <td>2</td>\n",
       "    </tr>\n",
       "    <tr>\n",
       "      <th>fffe3200</th>\n",
       "      <td>Travis Young</td>\n",
       "      <td>26</td>\n",
       "      <td>single</td>\n",
       "      <td>m</td>\n",
       "      <td>gay</td>\n",
       "      <td>socially</td>\n",
       "      <td>never</td>\n",
       "      <td>68</td>\n",
       "      <td>other</td>\n",
       "      <td>pleasant hill, california</td>\n",
       "      <td>...</td>\n",
       "      <td>english (fluently), tagalog (okay), french (po...</td>\n",
       "      <td>interested</td>\n",
       "      <td>fit</td>\n",
       "      <td>3</td>\n",
       "      <td>no</td>\n",
       "      <td>i'm a straightforward, genuine, fun loving (i'...</td>\n",
       "      <td>painting</td>\n",
       "      <td>instruments</td>\n",
       "      <td>anywhere</td>\n",
       "      <td>0</td>\n",
       "    </tr>\n",
       "    <tr>\n",
       "      <th>fffe3300</th>\n",
       "      <td>Agnes Smith</td>\n",
       "      <td>20</td>\n",
       "      <td>seeing someone</td>\n",
       "      <td>f</td>\n",
       "      <td>bisexual</td>\n",
       "      <td>socially</td>\n",
       "      <td>sometimes</td>\n",
       "      <td>69</td>\n",
       "      <td>other</td>\n",
       "      <td>oakland, california</td>\n",
       "      <td>...</td>\n",
       "      <td>english (fluently), sign language (poorly), fr...</td>\n",
       "      <td>interested</td>\n",
       "      <td>fit</td>\n",
       "      <td>2</td>\n",
       "      <td>no</td>\n",
       "      <td>mmmmm yummy tacosss. yoga is where it's at. i ...</td>\n",
       "      <td>instruments</td>\n",
       "      <td>dancing</td>\n",
       "      <td>same city</td>\n",
       "      <td>3</td>\n",
       "    </tr>\n",
       "    <tr>\n",
       "      <th>fffe3400</th>\n",
       "      <td>Salvador Klaver</td>\n",
       "      <td>27</td>\n",
       "      <td>single</td>\n",
       "      <td>m</td>\n",
       "      <td>bisexual</td>\n",
       "      <td>socially</td>\n",
       "      <td>sometimes</td>\n",
       "      <td>68</td>\n",
       "      <td>computer / hardware / software</td>\n",
       "      <td>daly city, california</td>\n",
       "      <td>...</td>\n",
       "      <td>english</td>\n",
       "      <td>not interested</td>\n",
       "      <td>average</td>\n",
       "      <td>3</td>\n",
       "      <td>no</td>\n",
       "      <td>i'm a stealth geek. that special mix of techni...</td>\n",
       "      <td>sketching</td>\n",
       "      <td>acting</td>\n",
       "      <td>same city</td>\n",
       "      <td>0</td>\n",
       "    </tr>\n",
       "    <tr>\n",
       "      <th>fffe3500</th>\n",
       "      <td>Elana Sewell</td>\n",
       "      <td>22</td>\n",
       "      <td>single</td>\n",
       "      <td>f</td>\n",
       "      <td>bisexual</td>\n",
       "      <td>often</td>\n",
       "      <td>sometimes</td>\n",
       "      <td>68</td>\n",
       "      <td>other</td>\n",
       "      <td>oakland, california</td>\n",
       "      <td>...</td>\n",
       "      <td>english</td>\n",
       "      <td>not interested</td>\n",
       "      <td>average</td>\n",
       "      <td>2</td>\n",
       "      <td>yes</td>\n",
       "      <td>with the whisper of the wind i was weaved into...</td>\n",
       "      <td>craft</td>\n",
       "      <td>designing</td>\n",
       "      <td>same city</td>\n",
       "      <td>3</td>\n",
       "    </tr>\n",
       "  </tbody>\n",
       "</table>\n",
       "<p>5 rows × 22 columns</p>\n",
       "</div>"
      ],
      "text/plain": [
       "                 username  age          status sex orientation    drinks  \\\n",
       "user_id                                                                    \n",
       "fffe3100      Edith Lopez   27          single   f         gay  socially   \n",
       "fffe3200     Travis Young   26          single   m         gay  socially   \n",
       "fffe3300      Agnes Smith   20  seeing someone   f    bisexual  socially   \n",
       "fffe3400  Salvador Klaver   27          single   m    bisexual  socially   \n",
       "fffe3500     Elana Sewell   22          single   f    bisexual     often   \n",
       "\n",
       "              drugs  height                             job  \\\n",
       "user_id                                                       \n",
       "fffe3100      never      66               medicine / health   \n",
       "fffe3200      never      68                           other   \n",
       "fffe3300  sometimes      69                           other   \n",
       "fffe3400  sometimes      68  computer / hardware / software   \n",
       "fffe3500  sometimes      68                           other   \n",
       "\n",
       "                           location  ...  \\\n",
       "user_id                              ...   \n",
       "fffe3100        oakland, california  ...   \n",
       "fffe3200  pleasant hill, california  ...   \n",
       "fffe3300        oakland, california  ...   \n",
       "fffe3400      daly city, california  ...   \n",
       "fffe3500        oakland, california  ...   \n",
       "\n",
       "                                                   language   new_languages  \\\n",
       "user_id                                                                       \n",
       "fffe3100  english (fluently), spanish (poorly), sign lan...      interested   \n",
       "fffe3200  english (fluently), tagalog (okay), french (po...      interested   \n",
       "fffe3300  english (fluently), sign language (poorly), fr...      interested   \n",
       "fffe3400                                            english  not interested   \n",
       "fffe3500                                            english  not interested   \n",
       "\n",
       "         body_profile education_level dropped_out  \\\n",
       "user_id                                             \n",
       "fffe3100     athletic               4          no   \n",
       "fffe3200          fit               3          no   \n",
       "fffe3300          fit               2          no   \n",
       "fffe3400      average               3          no   \n",
       "fffe3500      average               2         yes   \n",
       "\n",
       "                                                        bio    interests  \\\n",
       "user_id                                                                    \n",
       "fffe3100  bottom line i love life! i work hard and i lov...       sports   \n",
       "fffe3200  i'm a straightforward, genuine, fun loving (i'...     painting   \n",
       "fffe3300  mmmmm yummy tacosss. yoga is where it's at. i ...  instruments   \n",
       "fffe3400  i'm a stealth geek. that special mix of techni...    sketching   \n",
       "fffe3500  with the whisper of the wind i was weaved into...        craft   \n",
       "\n",
       "         other_interests location_preference cluster_labels  \n",
       "user_id                                                      \n",
       "fffe3100     instruments          same state              2  \n",
       "fffe3200     instruments            anywhere              0  \n",
       "fffe3300         dancing           same city              3  \n",
       "fffe3400          acting           same city              0  \n",
       "fffe3500       designing           same city              3  \n",
       "\n",
       "[5 rows x 22 columns]"
      ]
     },
     "execution_count": 5,
     "metadata": {},
     "output_type": "execute_result"
    }
   ],
   "source": [
    "data.head(2)"
   ]
  },
  {
   "cell_type": "code",
   "execution_count": 8,
   "metadata": {},
   "outputs": [],
   "source": [
    "cube=session.create_cube(data)"
   ]
  },
  {
   "cell_type": "code",
   "execution_count": 9,
   "metadata": {},
   "outputs": [
    {
     "data": {
      "application/vnd.atoti.widget.v0+json": {
       "name": null,
       "session": "Unnamed"
      },
      "text/plain": [
       "Open the notebook in JupyterLab with the atoti extension installed and enabled to start editing this widget."
      ]
     },
     "metadata": {},
     "output_type": "display_data"
    }
   ],
   "source": [
    "session.visualize()"
   ]
  },
  {
   "cell_type": "code",
   "execution_count": 10,
   "metadata": {},
   "outputs": [
    {
     "data": {
      "application/json": {
       "Rawdata_withclusterlabels": {
        "age": [
         "age"
        ],
        "bio": [
         "bio"
        ],
        "body_profile": [
         "body_profile"
        ],
        "cluster_labels": [
         "cluster_labels"
        ],
        "drinks": [
         "drinks"
        ],
        "dropped_out": [
         "dropped_out"
        ],
        "drugs": [
         "drugs"
        ],
        "education_level": [
         "education_level"
        ],
        "height": [
         "height"
        ],
        "interests": [
         "interests"
        ],
        "job": [
         "job"
        ],
        "language": [
         "language"
        ],
        "location": [
         "location"
        ],
        "location_preference": [
         "location_preference"
        ],
        "new_languages": [
         "new_languages"
        ],
        "orientation": [
         "orientation"
        ],
        "other_interests": [
         "other_interests"
        ],
        "pets": [
         "pets"
        ],
        "sex": [
         "sex"
        ],
        "smokes": [
         "smokes"
        ],
        "status": [
         "status"
        ],
        "user_id": [
         "user_id"
        ],
        "username": [
         "username"
        ]
       }
      },
      "text/html": [
       "<ul>\n",
       "<li>Dimensions\n",
       "  <ul>\n",
       "  <li>Rawdata_withclusterlabels\n",
       "    <ul>\n",
       "    <li>age\n",
       "      <ol>\n",
       "      <li>age</li>\n",
       "      </ol>    </li>\n",
       "    <li>bio\n",
       "      <ol>\n",
       "      <li>bio</li>\n",
       "      </ol>    </li>\n",
       "    <li>body_profile\n",
       "      <ol>\n",
       "      <li>body_profile</li>\n",
       "      </ol>    </li>\n",
       "    <li>cluster_labels\n",
       "      <ol>\n",
       "      <li>cluster_labels</li>\n",
       "      </ol>    </li>\n",
       "    <li>drinks\n",
       "      <ol>\n",
       "      <li>drinks</li>\n",
       "      </ol>    </li>\n",
       "    <li>dropped_out\n",
       "      <ol>\n",
       "      <li>dropped_out</li>\n",
       "      </ol>    </li>\n",
       "    <li>drugs\n",
       "      <ol>\n",
       "      <li>drugs</li>\n",
       "      </ol>    </li>\n",
       "    <li>education_level\n",
       "      <ol>\n",
       "      <li>education_level</li>\n",
       "      </ol>    </li>\n",
       "    <li>height\n",
       "      <ol>\n",
       "      <li>height</li>\n",
       "      </ol>    </li>\n",
       "    <li>interests\n",
       "      <ol>\n",
       "      <li>interests</li>\n",
       "      </ol>    </li>\n",
       "    <li>job\n",
       "      <ol>\n",
       "      <li>job</li>\n",
       "      </ol>    </li>\n",
       "    <li>language\n",
       "      <ol>\n",
       "      <li>language</li>\n",
       "      </ol>    </li>\n",
       "    <li>location\n",
       "      <ol>\n",
       "      <li>location</li>\n",
       "      </ol>    </li>\n",
       "    <li>location_preference\n",
       "      <ol>\n",
       "      <li>location_preference</li>\n",
       "      </ol>    </li>\n",
       "    <li>new_languages\n",
       "      <ol>\n",
       "      <li>new_languages</li>\n",
       "      </ol>    </li>\n",
       "    <li>orientation\n",
       "      <ol>\n",
       "      <li>orientation</li>\n",
       "      </ol>    </li>\n",
       "    <li>other_interests\n",
       "      <ol>\n",
       "      <li>other_interests</li>\n",
       "      </ol>    </li>\n",
       "    <li>pets\n",
       "      <ol>\n",
       "      <li>pets</li>\n",
       "      </ol>    </li>\n",
       "    <li>sex\n",
       "      <ol>\n",
       "      <li>sex</li>\n",
       "      </ol>    </li>\n",
       "    <li>smokes\n",
       "      <ol>\n",
       "      <li>smokes</li>\n",
       "      </ol>    </li>\n",
       "    <li>status\n",
       "      <ol>\n",
       "      <li>status</li>\n",
       "      </ol>    </li>\n",
       "    <li>user_id\n",
       "      <ol>\n",
       "      <li>user_id</li>\n",
       "      </ol>    </li>\n",
       "    <li>username\n",
       "      <ol>\n",
       "      <li>username</li>\n",
       "      </ol>    </li>\n",
       "    </ul>\n",
       "  </li>\n",
       "  </ul>\n",
       "</li>\n",
       "</ul>\n"
      ],
      "text/plain": [
       "Hierarchies()"
      ]
     },
     "execution_count": 10,
     "metadata": {
      "application/json": {
       "expanded": true,
       "root": "Dimensions"
      }
     },
     "output_type": "execute_result"
    }
   ],
   "source": [
    "cube.hierarchies"
   ]
  },
  {
   "cell_type": "code",
   "execution_count": 11,
   "metadata": {},
   "outputs": [
    {
     "data": {
      "text/plain": [
       "'http://localhost:53304'"
      ]
     },
     "execution_count": 11,
     "metadata": {},
     "output_type": "execute_result"
    }
   ],
   "source": [
    "session.url"
   ]
  }
 ],
 "metadata": {
  "kernelspec": {
   "display_name": "Python 3",
   "language": "python",
   "name": "python3"
  },
  "language_info": {
   "codemirror_mode": {
    "name": "ipython",
    "version": 3
   },
   "file_extension": ".py",
   "mimetype": "text/x-python",
   "name": "python",
   "nbconvert_exporter": "python",
   "pygments_lexer": "ipython3",
   "version": "3.8.5"
  }
 },
 "nbformat": 4,
 "nbformat_minor": 4
}
