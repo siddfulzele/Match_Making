{
 "cells": [
  {
   "cell_type": "code",
   "execution_count": 1,
   "metadata": {},
   "outputs": [],
   "source": [
    "topics = ['Knowing each other','Explore','Full of life','Fun Partner','Easy Going','Meeting new people']\n",
    "def nmf_predict(vectorizer, model, text):\n",
    "    text_vect = vectorizer.transform([text])\n",
    "    result = model.transform(text_vect)\n",
    "    return topics[np.argmax(result)]"
   ]
  },
  {
   "cell_type": "code",
   "execution_count": 2,
   "metadata": {},
   "outputs": [],
   "source": [
    "import pickle\n",
    "with open('nmf_model_tf_idf.pkl', 'rb') as file:\n",
    "    nmf_model_tf_idf = pickle.load(file)\n",
    "    \n",
    "with open('tf_idf.pkl', 'rb') as file:\n",
    "    tf_idf = pickle.load(file)    "
   ]
  },
  {
   "cell_type": "code",
   "execution_count": 4,
   "metadata": {},
   "outputs": [
    {
     "data": {
      "text/plain": [
       "'Full of life'"
      ]
     },
     "execution_count": 4,
     "metadata": {},
     "output_type": "execute_result"
    }
   ],
   "source": [
    "import numpy as np\n",
    "t=''\n",
    "nmf_predict(vectorizer=tf_idf, model=nmf_model_tf_idf, text='bottom line love life work hard love hard earth drama free plan keep way want know ask woman loves women sometimes feel like nut sometimes femme side butch side love trying new things spend day helping people check list going love making people laugh open meeting new people dating point taking care heart rushing anything value communication open minded')\n"
   ]
  },
  {
   "cell_type": "code",
   "execution_count": null,
   "metadata": {},
   "outputs": [],
   "source": []
  }
 ],
 "metadata": {
  "kernelspec": {
   "display_name": "Python 3",
   "language": "python",
   "name": "python3"
  },
  "language_info": {
   "codemirror_mode": {
    "name": "ipython",
    "version": 3
   },
   "file_extension": ".py",
   "mimetype": "text/x-python",
   "name": "python",
   "nbconvert_exporter": "python",
   "pygments_lexer": "ipython3",
   "version": "3.8.3"
  }
 },
 "nbformat": 4,
 "nbformat_minor": 4
}
