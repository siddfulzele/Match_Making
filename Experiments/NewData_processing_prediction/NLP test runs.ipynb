{
 "cells": [
  {
   "cell_type": "code",
   "execution_count": 1,
   "metadata": {},
   "outputs": [],
   "source": [
    "topics = ['Knowing each other','Explore','Full of life','Fun Partner','Easy Going','Meeting new people']\n",
    "def nmf_predict(vectorizer, model, text):\n",
    "    text_vect = vectorizer.transform([text])\n",
    "    result = model.transform(text_vect)\n",
    "    return topics[np.argmax(result)]"
   ]
  },
  {
   "cell_type": "code",
   "execution_count": 2,
   "metadata": {},
   "outputs": [],
   "source": [
    "import pickle\n",
    "with open('nmf_model_tf_idf.pkl', 'rb') as file:\n",
    "    nmf_model_tf_idf = pickle.load(file)\n",
    "    \n",
    "with open('tf_idf.pkl', 'rb') as file:\n",
    "    tf_idf = pickle.load(file)    "
   ]
  },
  {
   "cell_type": "code",
   "execution_count": 11,
   "metadata": {},
   "outputs": [
    {
     "data": {
      "text/plain": [
       "'Knowing each other'"
      ]
     },
     "execution_count": 11,
     "metadata": {},
     "output_type": "execute_result"
    }
   ],
   "source": [
    "import numpy as np\n",
    "t=''\n",
    "nmf_predict(vectorizer=tf_idf, model=nmf_model_tf_idf, text='stealth geek special mix technical obsession enough social awareness look like something revenge nerds hip knew self image would like project one somebody far cooler sort would love covered tattoos save fact explain portrait crazed charles bronson grandkids bicycle fixed gear folds half instead sport gigantic mustache hopes mistaken self confidence')\n"
   ]
  },
  {
   "cell_type": "code",
   "execution_count": null,
   "metadata": {},
   "outputs": [],
   "source": []
  }
 ],
 "metadata": {
  "kernelspec": {
   "display_name": "Python 3",
   "language": "python",
   "name": "python3"
  },
  "language_info": {
   "codemirror_mode": {
    "name": "ipython",
    "version": 3
   },
   "file_extension": ".py",
   "mimetype": "text/x-python",
   "name": "python",
   "nbconvert_exporter": "python",
   "pygments_lexer": "ipython3",
   "version": "3.8.3"
  }
 },
 "nbformat": 4,
 "nbformat_minor": 4
}
