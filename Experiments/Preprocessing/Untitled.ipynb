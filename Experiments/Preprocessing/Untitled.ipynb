{
 "cells": [
  {
   "cell_type": "code",
   "execution_count": 1,
   "metadata": {},
   "outputs": [],
   "source": [
    "import pandas as pd\n",
    "data=pd.read_csv('data.csv')"
   ]
  },
  {
   "cell_type": "code",
   "execution_count": 9,
   "metadata": {},
   "outputs": [
    {
     "data": {
      "text/plain": [
       "user_id                                                     fffe38003800\n",
       "username                                                    Al Gonsoulin\n",
       "age                                                                   37\n",
       "status                                                            single\n",
       "sex                                                                    m\n",
       "orientation                                                     straight\n",
       "drinks                                                            rarely\n",
       "drugs                                                              never\n",
       "height                                                                75\n",
       "job                                                           unemployed\n",
       "location                                           san mateo, california\n",
       "pets                                           likes dogs and likes cats\n",
       "smokes                                                                no\n",
       "language                                                         english\n",
       "new_languages                                             not interested\n",
       "body_profile                                                     average\n",
       "education_level                                                        3\n",
       "dropped_out                                                           no\n",
       "bio                    hey, how's it going?  so what i'm looking for,...\n",
       "interests                                                    video games\n",
       "other_interests                                                  cooking\n",
       "location_preference                                            same city\n",
       "Name: 87, dtype: object"
      ]
     },
     "execution_count": 9,
     "metadata": {},
     "output_type": "execute_result"
    }
   ],
   "source": [
    "data.iloc[87,:]"
   ]
  }
 ],
 "metadata": {
  "kernelspec": {
   "display_name": "Python 3",
   "language": "python",
   "name": "python3"
  },
  "language_info": {
   "codemirror_mode": {
    "name": "ipython",
    "version": 3
   },
   "file_extension": ".py",
   "mimetype": "text/x-python",
   "name": "python",
   "nbconvert_exporter": "python",
   "pygments_lexer": "ipython3",
   "version": "3.8.5"
  }
 },
 "nbformat": 4,
 "nbformat_minor": 4
}
